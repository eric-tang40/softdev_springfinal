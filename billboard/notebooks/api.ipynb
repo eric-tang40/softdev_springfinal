{
 "cells": [
  {
   "cell_type": "code",
   "execution_count": 1,
   "metadata": {},
   "outputs": [],
   "source": [
    "import os\n",
    "os.chdir(\"..\")"
   ]
  },
  {
   "cell_type": "code",
   "execution_count": 2,
   "metadata": {},
   "outputs": [],
   "source": [
    "import django\n",
    "# In case that we need it later\n",
    "#from django.conf import settings\n",
    "os.environ.setdefault('DJANGO_SETTINGS_MODULE', 'billboard.settings')\n",
    "# We need to enable the following because jupyter is running an async loop\n",
    "os.environ[\"DJANGO_ALLOW_ASYNC_UNSAFE\"] = \"true\"\n",
    "django.setup()"
   ]
  },
  {
   "cell_type": "code",
   "execution_count": 3,
   "metadata": {},
   "outputs": [],
   "source": [
    "import json\n",
    "import http.client\n",
    "from rankings.models import Song"
   ]
  },
  {
   "cell_type": "code",
   "execution_count": 4,
   "metadata": {},
   "outputs": [],
   "source": [
    "from django.conf import settings\n",
    "api_key = settings.API_KEY\n",
    "\n",
    "conn = http.client.HTTPSConnection(\"billboard-api2.p.rapidapi.com\")\n",
    "\n",
    "headers = {\n",
    "    'x-rapidapi-key': api_key,\n",
    "    'x-rapidapi-host': \"billboard-api2.p.rapidapi.com\"\n",
    "}\n",
    "\n",
    "conn.request(\"GET\", \"/hot-100?date=2024-06-05&range=1-100\", headers=headers) # Placeholder date\n",
    "\n",
    "res = conn.getresponse()\n",
    "data = res.read()\n",
    "\n",
    "songs = (data.decode(\"utf-8\"))\n",
    "songs_data = json.loads(songs)\n",
    "song_list = songs_data.get('response', [])"
   ]
  },
  {
   "cell_type": "code",
   "execution_count": 5,
   "metadata": {},
   "outputs": [],
   "source": [
    "from django.utils.dateparse import parse_date\n",
    "\n",
    "def process_song_data(songs_data):\n",
    "    for song_key, song_info in songs_data.items():\n",
    "        title = song_info.get('title')\n",
    "        artist = song_info.get('artist')\n",
    "        rank = int(song_info.get('rank'))\n",
    "        peak_position = int(song_info.get('peak position'))\n",
    "        weeks_on_chart = int(song_info.get('weeks on chart'))\n",
    "\n",
    "        chart_date = parse_date('2024-06-05')  # Placeholder date\n",
    "\n",
    "        song, created = Song.objects.update_or_create(\n",
    "            title=title,\n",
    "            artist=artist,\n",
    "            chart_date=chart_date,\n",
    "            defaults={\n",
    "                'rank': rank,\n",
    "                'album_name': '',\n",
    "                'peak_position': peak_position,\n",
    "                'weeks_on_chart': weeks_on_chart,\n",
    "                'label': '',\n",
    "                'genre': ''\n",
    "            }\n",
    "        )\n",
    "        if created:\n",
    "            print(f\"Added new song: {title} by {artist}\")\n",
    "        else:\n",
    "            print(f\"Updated song: {title} by {artist}\")"
   ]
  },
  {
   "cell_type": "code",
   "execution_count": 6,
   "metadata": {},
   "outputs": [
    {
     "name": "stdout",
     "output_type": "stream",
     "text": [
      "{'1': {'rank': '1', 'title': 'I Had Some Help', 'artist': 'Post Malone Featuring Morgan Wallen', 'weeks at no.1': '3', 'last week': '1', 'peak position': '1', 'weeks on chart': '3', 'detail': 'same'}, '2': {'rank': '2', 'title': 'Not Like Us', 'artist': 'Kendrick Lamar', 'last week': '2', 'peak position': '1', 'weeks on chart': '4', 'detail': 'same'}, '3': {'rank': '3', 'title': 'Million Dollar Baby', 'artist': 'Tommy Richman', 'last week': '3', 'peak position': '2', 'weeks on chart': '5', 'detail': 'same'}, '4': {'rank': '4', 'title': 'A Bar Song (Tipsy)', 'artist': 'Shaboozey', 'last week': '4', 'peak position': '3', 'weeks on chart': '7', 'detail': 'same'}, '5': {'rank': '5', 'title': 'Espresso', 'artist': 'Sabrina Carpenter', 'last week': '6', 'peak position': '4', 'weeks on chart': '7', 'detail': 'up'}, '6': {'rank': '6', 'title': 'Pink Skies', 'artist': 'Zach Bryan', 'last week': 'None', 'peak position': '6', 'weeks on chart': '1', 'detail': 'new'}, '7': {'rank': '7', 'title': 'Lose Control', 'artist': 'Teddy Swims', 'last week': '7', 'peak position': '1', 'weeks on chart': '42', 'detail': 'same'}, '8': {'rank': '8', 'title': 'Too Sweet', 'artist': 'Hozier', 'last week': '9', 'peak position': '1', 'weeks on chart': '10', 'detail': 'up'}, '9': {'rank': '9', 'title': 'Beautiful Things', 'artist': 'Benson Boone', 'last week': '8', 'peak position': '2', 'weeks on chart': '19', 'detail': 'down'}, '10': {'rank': '10', 'title': 'Lunch', 'artist': 'Billie Eilish', 'last week': '5', 'peak position': '5', 'weeks on chart': '2', 'detail': 'down'}}\n",
      "Added new song: I Had Some Help by Post Malone Featuring Morgan Wallen\n",
      "Added new song: Not Like Us by Kendrick Lamar\n",
      "Added new song: Million Dollar Baby by Tommy Richman\n",
      "Added new song: A Bar Song (Tipsy) by Shaboozey\n",
      "Added new song: Espresso by Sabrina Carpenter\n",
      "Added new song: Pink Skies by Zach Bryan\n",
      "Added new song: Lose Control by Teddy Swims\n",
      "Added new song: Too Sweet by Hozier\n",
      "Added new song: Beautiful Things by Benson Boone\n",
      "Added new song: Lunch by Billie Eilish\n"
     ]
    }
   ],
   "source": [
    "song_l = songs_data.get('content', [])\n",
    "print(song_l)\n",
    "process_song_data(song_l)"
   ]
  },
  {
   "cell_type": "code",
   "execution_count": null,
   "metadata": {},
   "outputs": [],
   "source": []
  }
 ],
 "metadata": {
  "kernelspec": {
   "display_name": "Python 3 (ipykernel)",
   "language": "python",
   "name": "python3"
  },
  "language_info": {
   "codemirror_mode": {
    "name": "ipython",
    "version": 3
   },
   "file_extension": ".py",
   "mimetype": "text/x-python",
   "name": "python",
   "nbconvert_exporter": "python",
   "pygments_lexer": "ipython3",
   "version": "3.10.6"
  }
 },
 "nbformat": 4,
 "nbformat_minor": 4
}
