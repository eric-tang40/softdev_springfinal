{
 "cells": [
  {
   "cell_type": "code",
   "execution_count": 13,
   "metadata": {},
   "outputs": [],
   "source": [
    "import os\n",
    "os.chdir(\"..\")"
   ]
  },
  {
   "cell_type": "code",
   "execution_count": 14,
   "metadata": {},
   "outputs": [],
   "source": [
    "import django\n",
    "# In case that we need it later\n",
    "#from django.conf import settings\n",
    "os.environ.setdefault('DJANGO_SETTINGS_MODULE', 'billboard.settings')\n",
    "# We need to enable the following because jupyter is running an async loop\n",
    "os.environ[\"DJANGO_ALLOW_ASYNC_UNSAFE\"] = \"true\"\n",
    "django.setup()"
   ]
  },
  {
   "cell_type": "code",
   "execution_count": 15,
   "metadata": {},
   "outputs": [],
   "source": [
    "import json\n",
    "import http.client\n",
    "from rankings.models import Song"
   ]
  },
  {
   "cell_type": "code",
   "execution_count": 16,
   "metadata": {},
   "outputs": [],
   "source": [
    "from django.conf import settings\n",
    "api_key = settings.API_KEY\n",
    "\n",
    "conn = http.client.HTTPSConnection(\"billboard-api2.p.rapidapi.com\")\n",
    "\n",
    "headers = {\n",
    "    'x-rapidapi-key': api_key,\n",
    "    'x-rapidapi-host': \"billboard-api2.p.rapidapi.com\"\n",
    "}\n",
    "\n",
    "conn.request(\"GET\", \"/hot-100?date=2019-05-11&range=1-100\", headers=headers) # Placeholder date\n",
    "\n",
    "res = conn.getresponse()\n",
    "data = res.read()\n",
    "\n",
    "songs = (data.decode(\"utf-8\"))\n",
    "songs_data = json.loads(songs)\n",
    "song_list = songs_data.get('response', [])"
   ]
  },
  {
   "cell_type": "code",
   "execution_count": 17,
   "metadata": {},
   "outputs": [],
   "source": [
    "from django.utils.dateparse import parse_date\n",
    "\n",
    "def process_song_data(songs_data):\n",
    "    for song_key, song_info in songs_data.items():\n",
    "        title = song_info.get('title')\n",
    "        artist = song_info.get('artist')\n",
    "        rank = int(song_info.get('rank'))\n",
    "        peak_position = int(song_info.get('peak position'))\n",
    "        weeks_on_chart = int(song_info.get('weeks on chart'))\n",
    "\n",
    "        chart_date = parse_date('2019-05-11')  # Placeholder date\n",
    "\n",
    "        song, created = Song.objects.update_or_create(\n",
    "            title=title,\n",
    "            artist=artist,\n",
    "            chart_date=chart_date,\n",
    "            defaults={\n",
    "                'rank': rank,\n",
    "                'album_name': '',\n",
    "                'peak_position': peak_position,\n",
    "                'weeks_on_chart': weeks_on_chart,\n",
    "                'label': '',\n",
    "                'genre': ''\n",
    "            }\n",
    "        )\n",
    "        if created:\n",
    "            print(f\"Added new song: {title} by {artist}\")\n",
    "        else:\n",
    "            print(f\"Updated song: {title} by {artist}\")\n"
   ]
  },
  {
   "cell_type": "code",
   "execution_count": 18,
   "metadata": {},
   "outputs": [
    {
     "name": "stdout",
     "output_type": "stream",
     "text": [
      "{'1': {'rank': '1', 'title': 'Old Town Road', 'artist': 'Lil Nas X Featuring Billy Ray Cyrus', 'weeks at no.1': '5', 'last week': '1', 'peak position': '1', 'weeks on chart': '9', 'detail': 'same'}, '2': {'rank': '2', 'title': 'ME!', 'artist': 'Taylor Swift Featuring Brendon Urie', 'last week': '100', 'peak position': '2', 'weeks on chart': '2', 'detail': 'up'}, '3': {'rank': '3', 'title': 'Wow.', 'artist': 'Post Malone', 'last week': '2', 'peak position': '2', 'weeks on chart': '19', 'detail': 'down'}, '4': {'rank': '4', 'title': 'Sucker', 'artist': 'Jonas Brothers', 'last week': '5', 'peak position': '1', 'weeks on chart': '9', 'detail': 'up'}, '5': {'rank': '5', 'title': 'Sunflower (Spider-Man: Into The Spider-Verse)', 'artist': 'Post Malone & Swae Lee', 'last week': '3', 'peak position': '1', 'weeks on chart': '28', 'detail': 'down'}, '6': {'rank': '6', 'title': '7 Rings', 'artist': 'Ariana Grande', 'last week': '4', 'peak position': '1', 'weeks on chart': '15', 'detail': 'down'}, '7': {'rank': '7', 'title': 'Without Me', 'artist': 'Halsey', 'last week': '6', 'peak position': '1', 'weeks on chart': '30', 'detail': 'down'}, '8': {'rank': '8', 'title': 'Dancing With A Stranger', 'artist': 'Sam Smith & Normani', 'last week': '7', 'peak position': '7', 'weeks on chart': '16', 'detail': 'down'}, '9': {'rank': '9', 'title': 'Bad Guy', 'artist': 'Billie Eilish', 'last week': '9', 'peak position': '7', 'weeks on chart': '5', 'detail': 'same'}, '10': {'rank': '10', 'title': 'Talk', 'artist': 'Khalid', 'last week': '8', 'peak position': '8', 'weeks on chart': '12', 'detail': 'down'}}\n",
      "Updated song: Old Town Road by Lil Nas X Featuring Billy Ray Cyrus\n",
      "Updated song: ME! by Taylor Swift Featuring Brendon Urie\n",
      "Updated song: Wow. by Post Malone\n",
      "Updated song: Sucker by Jonas Brothers\n",
      "Updated song: Sunflower (Spider-Man: Into The Spider-Verse) by Post Malone & Swae Lee\n",
      "Updated song: 7 Rings by Ariana Grande\n",
      "Updated song: Without Me by Halsey\n",
      "Updated song: Dancing With A Stranger by Sam Smith & Normani\n",
      "Updated song: Bad Guy by Billie Eilish\n",
      "Updated song: Talk by Khalid\n"
     ]
    }
   ],
   "source": [
    "song_l = songs_data.get('content', [])\n",
    "print(song_l)\n",
    "process_song_data(song_l)"
   ]
  }
 ],
 "metadata": {
  "kernelspec": {
   "display_name": "Python 3 (ipykernel)",
   "language": "python",
   "name": "python3"
  },
  "language_info": {
   "codemirror_mode": {
    "name": "ipython",
    "version": 3
   },
   "file_extension": ".py",
   "mimetype": "text/x-python",
   "name": "python",
   "nbconvert_exporter": "python",
   "pygments_lexer": "ipython3",
   "version": "3.11.5"
  }
 },
 "nbformat": 4,
 "nbformat_minor": 4
}
