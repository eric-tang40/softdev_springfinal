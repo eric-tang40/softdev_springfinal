{
 "cells": [
  {
   "cell_type": "code",
   "execution_count": 21,
   "metadata": {},
   "outputs": [],
   "source": [
    "import os\n",
    "os.chdir(\"..\")"
   ]
  },
  {
   "cell_type": "code",
   "execution_count": 22,
   "metadata": {},
   "outputs": [],
   "source": [
    "import django\n",
    "# In case that we need it later\n",
    "#from django.conf import settings\n",
    "os.environ.setdefault('DJANGO_SETTINGS_MODULE', 'billboard.settings')\n",
    "# We need to enable the following because jupyter is running an async loop\n",
    "os.environ[\"DJANGO_ALLOW_ASYNC_UNSAFE\"] = \"true\"\n",
    "django.setup()"
   ]
  },
  {
   "cell_type": "code",
   "execution_count": 23,
   "metadata": {},
   "outputs": [],
   "source": [
    "import json\n",
    "import http.client\n",
    "from rankings.models import Song"
   ]
  },
  {
   "cell_type": "code",
   "execution_count": 24,
   "metadata": {},
   "outputs": [],
   "source": [
    "from django.conf import settings\n",
    "api_key = settings.API_KEY\n",
    "\n",
    "conn = http.client.HTTPSConnection(\"billboard-api2.p.rapidapi.com\")\n",
    "\n",
    "headers = {\n",
    "    'x-rapidapi-key': api_key,\n",
    "    'x-rapidapi-host': \"billboard-api2.p.rapidapi.com\"\n",
    "}\n",
    "\n",
    "conn.request(\"GET\", \"/hot-100?date=2019-05-11&range=1-100\", headers=headers) # Placeholder date\n",
    "\n",
    "res = conn.getresponse()\n",
    "data = res.read()\n",
    "\n",
    "songs = (data.decode(\"utf-8\"))\n",
    "songs_data = json.loads(songs)\n",
    "song_list = songs_data.get('response', [])"
   ]
  },
  {
   "cell_type": "code",
   "execution_count": 25,
   "metadata": {},
   "outputs": [],
   "source": [
    "from django.utils.dateparse import parse_date\n",
    "\n",
    "def process_song_data(songs_data):\n",
    "    for song_key, song_info in songs_data.items():\n",
    "        title = song_info.get('title')\n",
    "        artist = song_info.get('artist')\n",
    "        rank = int(song_info.get('rank'))\n",
    "        peak_position = int(song_info.get('peak position'))\n",
    "        weeks_on_chart = int(song_info.get('weeks on chart'))\n",
    "\n",
    "        chart_date = parse_date('2019-05-11')  # Placeholder date\n",
    "\n",
    "        song, created = Song.objects.update_or_create(\n",
    "            title=title,\n",
    "            artist=artist,\n",
    "            chart_date=chart_date,\n",
    "            defaults={\n",
    "                'rank': rank,\n",
    "                'album_name': '',\n",
    "                'peak_position': peak_position,\n",
    "                'weeks_on_chart': weeks_on_chart,\n",
    "                'label': '',\n",
    "                'genre': ''\n",
    "            }\n",
    "        )\n",
    "        if created:\n",
    "            print(f\"Added new song: {title} by {artist}\")\n",
    "        else:\n",
    "            print(f\"Updated song: {title} by {artist}\")"
   ]
  },
  {
   "cell_type": "code",
   "execution_count": 26,
   "metadata": {},
   "outputs": [
    {
     "name": "stdout",
     "output_type": "stream",
     "text": [
      "[]\n"
     ]
    },
    {
     "ename": "AttributeError",
     "evalue": "'list' object has no attribute 'items'",
     "output_type": "error",
     "traceback": [
      "\u001b[1;31m---------------------------------------------------------------------------\u001b[0m",
      "\u001b[1;31mAttributeError\u001b[0m                            Traceback (most recent call last)",
      "Cell \u001b[1;32mIn[26], line 3\u001b[0m\n\u001b[0;32m      1\u001b[0m song_l \u001b[38;5;241m=\u001b[39m songs_data\u001b[38;5;241m.\u001b[39mget(\u001b[38;5;124m'\u001b[39m\u001b[38;5;124mcontent\u001b[39m\u001b[38;5;124m'\u001b[39m, [])\n\u001b[0;32m      2\u001b[0m \u001b[38;5;28mprint\u001b[39m(song_l)\n\u001b[1;32m----> 3\u001b[0m \u001b[43mprocess_song_data\u001b[49m\u001b[43m(\u001b[49m\u001b[43msong_l\u001b[49m\u001b[43m)\u001b[49m\n",
      "Cell \u001b[1;32mIn[25], line 4\u001b[0m, in \u001b[0;36mprocess_song_data\u001b[1;34m(songs_data)\u001b[0m\n\u001b[0;32m      3\u001b[0m \u001b[38;5;28;01mdef\u001b[39;00m \u001b[38;5;21mprocess_song_data\u001b[39m(songs_data):\n\u001b[1;32m----> 4\u001b[0m     \u001b[38;5;28;01mfor\u001b[39;00m song_key, song_info \u001b[38;5;129;01min\u001b[39;00m \u001b[43msongs_data\u001b[49m\u001b[38;5;241;43m.\u001b[39;49m\u001b[43mitems\u001b[49m():\n\u001b[0;32m      5\u001b[0m         title \u001b[38;5;241m=\u001b[39m song_info\u001b[38;5;241m.\u001b[39mget(\u001b[38;5;124m'\u001b[39m\u001b[38;5;124mtitle\u001b[39m\u001b[38;5;124m'\u001b[39m)\n\u001b[0;32m      6\u001b[0m         artist \u001b[38;5;241m=\u001b[39m song_info\u001b[38;5;241m.\u001b[39mget(\u001b[38;5;124m'\u001b[39m\u001b[38;5;124martist\u001b[39m\u001b[38;5;124m'\u001b[39m)\n",
      "\u001b[1;31mAttributeError\u001b[0m: 'list' object has no attribute 'items'"
     ]
    }
   ],
   "source": [
    "song_l = songs_data.get('content', [])\n",
    "print(song_l)\n",
    "process_song_data(song_l)"
   ]
  }
 ],
 "metadata": {
  "kernelspec": {
   "display_name": "Python 3 (ipykernel)",
   "language": "python",
   "name": "python3"
  },
  "language_info": {
   "codemirror_mode": {
    "name": "ipython",
    "version": 3
   },
   "file_extension": ".py",
   "mimetype": "text/x-python",
   "name": "python",
   "nbconvert_exporter": "python",
   "pygments_lexer": "ipython3",
   "version": "3.11.5"
  }
 },
 "nbformat": 4,
 "nbformat_minor": 4
}
